{
 "cells": [
  {
   "cell_type": "code",
   "execution_count": null,
   "metadata": {
    "collapsed": true
   },
   "outputs": [],
   "source": [
    "import our_gantt_chart as gc\n",
    "import numpy as np\n",
    "import pandas as pd\n",
    "import datetime as dt\n",
    "\n",
    "\n",
    "import matplotlib.pyplot as plt\n",
    "import matplotlib.patches as patches\n",
    "\n",
    "import matplotlib.text as text\n",
    "\n",
    "%matplotlib notebook\n",
    "\n"
   ]
  },
  {
   "cell_type": "code",
   "execution_count": null,
   "metadata": {
    "collapsed": true
   },
   "outputs": [],
   "source": [
    "data = gc.read_file(\"gantt_chart_data_LARGE.csv\")"
   ]
  },
  {
   "cell_type": "code",
   "execution_count": null,
   "metadata": {},
   "outputs": [],
   "source": [
    "print(data)\n",
    "\n",
    "nicknames = []\n",
    "\n",
    "events = {}\n",
    "\n",
    "for event in data:\n",
    "\n",
    "    nn = event[4].astype(str)\n",
    "    name = event[0].astype(str)\n",
    "    type_of_work = event[5].astype(str)\n",
    "    \n",
    "    if nn == \"\":\n",
    "        nn = name\n",
    "    nicknames.append(nn)\n",
    "    events[nn] = {}\n",
    "    \n",
    "    events[nn][\"name\"] = name\n",
    "    \n",
    "    date = event[1].astype(str)\n",
    "    d = gc.is_date(date)\n",
    "    print(d)\n",
    "    start_from_other = False\n",
    "    if d is False:\n",
    "        d = date.split(\":\")[0]\n",
    "        start_from_other = True\n",
    "\n",
    "    events[nn][\"start\"] = d\n",
    "    events[nn][\"start_from_other\"] = start_from_other\n",
    "    events[nn][\"type_of_work\"] = type_of_work\n",
    "\n",
    "    \n",
    "    date = event[2].astype(str)\n",
    "    d = gc.is_date(date)\n",
    "    print(d)\n",
    "    \n",
    "    events[nn][\"end\"] = d\n",
    "    \n",
    "    duration = event[3]\n",
    "    if duration=='':\n",
    "        duration = None\n",
    "    else:\n",
    "        duration = duration.astype(float)\n",
    "    events[nn][\"duration\"] = duration\n",
    "\n",
    "    \n",
    "print(nicknames)\n",
    "print(events)"
   ]
  },
  {
   "cell_type": "code",
   "execution_count": null,
   "metadata": {},
   "outputs": [],
   "source": [
    "date = data[0][1].astype(str)\n",
    "d = gc.is_date(date)\n",
    "print(d)"
   ]
  },
  {
   "cell_type": "code",
   "execution_count": null,
   "metadata": {
    "scrolled": false
   },
   "outputs": [],
   "source": [
    "import matplotlib.dates as mdates\n",
    "import matplotlib.cbook as cbook\n",
    "\n",
    "colors = {\"Mechanics\":\"r\", \n",
    "           \"Electronics\":\"b\",\n",
    "           \"Workshop\":\"brown\",\n",
    "           \"Aesthetics\":\"green\"}\n",
    "\n",
    "\n",
    "fig1 = plt.figure(figsize=(9,9))\n",
    "#ax = fig1.add_subplot(111, aspect='equal')\n",
    "ax = fig1.add_subplot(1,1,1)\n",
    "\n",
    "ymax = 10000\n",
    "\n",
    "datemin = dt.datetime(3000,1,1)\n",
    "datemax = dt.datetime(1,1,1)\n",
    "\n",
    "for i,key in enumerate(events.keys()):\n",
    "    event = events[key]\n",
    "    print(event)\n",
    "    \n",
    "    start = event[\"start\"]\n",
    "    print(\"start: \",start)\n",
    "    if type(start) != dt.datetime:\n",
    "        print(\"HERE\")\n",
    "        dependency = start\n",
    "        start = events[dependency][\"end\"]\n",
    "        print(start)\n",
    "        print(type(start))\n",
    "        if type(start) is not dt.timedelta and start is False:\n",
    "            print(dependency)\n",
    "            print(events[dependency][\"start\"])\n",
    "            print(events[dependency][\"duration\"])\n",
    "            start = events[dependency][\"start\"] + dt.timedelta(days=events[dependency][\"duration\"])\n",
    "        print(\"THERE: \",start)\n",
    "        event[\"start\"] = start\n",
    "\n",
    "    duration = event[\"duration\"]\n",
    "    if duration is None:\n",
    "        duration = (event['end'] - start).days\n",
    "\n",
    "    end = event[\"end\"]\n",
    "    if end is False:\n",
    "        print(duration)\n",
    "        print(start)\n",
    "        end = start + dt.timedelta(days=duration)\n",
    "                \n",
    "\n",
    "    if start:\n",
    "        if start<datemin:\n",
    "            datemin = start\n",
    "        if end>datemax:\n",
    "            datemax = end\n",
    "        color = colors[event[\"type_of_work\"]]\n",
    "        ax.barh(-i, duration, 0.5, start, align='center',alpha=1.0,color=color)\n",
    "\n",
    "\n",
    "#fig1.autofmt_xdate()\n",
    "xfmt = mdates.DateFormatter('%d-%m-%Y')\n",
    "ax.xaxis.set_major_formatter(xfmt)\n",
    "\n",
    "\n",
    "datemin -= dt.timedelta(days=2)\n",
    "datemax += dt.timedelta(days=2)\n",
    "\n",
    "# Put the names\n",
    "for i,key in enumerate(events.keys()):\n",
    "    event = events[key]\n",
    "    print(event)\n",
    "    name = event[\"name\"]\n",
    "    \n",
    "    y = -i\n",
    "    x = datemin + dt.timedelta(days=0.1)\n",
    "    print(\"TEXT: \",name,(x,y))\n",
    "    \n",
    "    plt.text(x,y,name,backgroundcolor='white',bbox=(dict(facecolor='gray', alpha=0.2)),fontsize=10)\n",
    "\n",
    "print(datemin)\n",
    "print(datemax)\n",
    "\n",
    "\n",
    "label_colors = []\n",
    "for key in colors.keys():\n",
    "    label_colors.append(colors[key])\n",
    "    \n",
    "#colors = ['r', 'g', 'b']\n",
    "#labels = ['foo', 'bar', 'baz']\n",
    "dummies = [ax.plot([], [], ls='-',lw=10, c=c)[0] for c in label_colors]        \n",
    "ax.legend(dummies, colors.keys())\n",
    "    \n",
    "ax.set_xlim(datemin, datemax)\n",
    "ax.set_ylim(-len(events)-1,1)\n",
    "ax.yaxis.label.set_visible(False)\n",
    "\n",
    "ax.set_yticklabels([])\n",
    "#ax.set_yticks([])\n",
    "\n",
    "\n",
    "ax.grid(axis='y')\n",
    "\n",
    "plt.tight_layout()\n",
    "plt.savefig(\"chart.jpg\")"
   ]
  },
  {
   "cell_type": "code",
   "execution_count": null,
   "metadata": {
    "collapsed": true
   },
   "outputs": [],
   "source": [
    "a = dt.datetime(2017,1,1)\n",
    "b = dt.datetime(2017,2,1)\n",
    "\n",
    "c = b-a"
   ]
  },
  {
   "cell_type": "code",
   "execution_count": null,
   "metadata": {
    "collapsed": true
   },
   "outputs": [],
   "source": [
    "c.days"
   ]
  },
  {
   "cell_type": "code",
   "execution_count": null,
   "metadata": {
    "collapsed": true
   },
   "outputs": [],
   "source": [
    "len(events)"
   ]
  },
  {
   "cell_type": "code",
   "execution_count": null,
   "metadata": {
    "collapsed": true
   },
   "outputs": [],
   "source": [
    "text.Text"
   ]
  }
 ],
 "metadata": {
  "kernelspec": {
   "display_name": "Python 3",
   "language": "python",
   "name": "python3"
  },
  "language_info": {
   "codemirror_mode": {
    "name": "ipython",
    "version": 3
   },
   "file_extension": ".py",
   "mimetype": "text/x-python",
   "name": "python",
   "nbconvert_exporter": "python",
   "pygments_lexer": "ipython3",
   "version": "3.6.2"
  }
 },
 "nbformat": 4,
 "nbformat_minor": 2
}
